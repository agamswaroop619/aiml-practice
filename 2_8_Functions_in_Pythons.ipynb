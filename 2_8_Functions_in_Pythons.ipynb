{
  "nbformat": 4,
  "nbformat_minor": 0,
  "metadata": {
    "colab": {
      "provenance": []
    },
    "kernelspec": {
      "name": "python3",
      "display_name": "Python 3"
    },
    "language_info": {
      "name": "python"
    }
  },
  "cells": [
    {
      "cell_type": "markdown",
      "source": [
        "#Functions"
      ],
      "metadata": {
        "id": "pJmvjPJ86KQD"
      }
    },
    {
      "cell_type": "markdown",
      "source": [
        "Function is a block of code that can be reused in a Program"
      ],
      "metadata": {
        "id": "BBKH553s6O7j"
      }
    },
    {
      "cell_type": "markdown",
      "source": [
        "Factorial of a number\n"
      ],
      "metadata": {
        "id": "h6YdFgb9Uxao"
      }
    },
    {
      "cell_type": "code",
      "source": [
        "number = int(input(\"Enter the no. \"))\n",
        "factorial =1\n",
        "if(number == 0):\n",
        "  print(factorial)\n",
        "else:\n",
        "  for i in range (1, number+1):\n",
        "    factorial = factorial*i\n",
        "  print(factorial)"
      ],
      "metadata": {
        "id": "aaW1ZVN96Ooh",
        "colab": {
          "base_uri": "https://localhost:8080/"
        },
        "outputId": "0879f27c-edfc-4f1a-af90-0b66f1335d2c"
      },
      "execution_count": 2,
      "outputs": [
        {
          "output_type": "stream",
          "name": "stdout",
          "text": [
            "Enter the no. 5\n",
            "120\n"
          ]
        }
      ]
    },
    {
      "cell_type": "code",
      "execution_count": 3,
      "metadata": {
        "id": "EiP7JvTt6FSX"
      },
      "outputs": [],
      "source": [
        "def fac_value(number):\n",
        "  factorial=1\n",
        "  if(number == 1):\n",
        "    return factorial\n",
        "  elif(number ==0):\n",
        "    return factorial\n",
        "  else:\n",
        "    factorial= number * fac_value(number-1)\n",
        "    return factorial"
      ]
    },
    {
      "cell_type": "code",
      "source": [
        "print(fac_value(5))"
      ],
      "metadata": {
        "colab": {
          "base_uri": "https://localhost:8080/"
        },
        "id": "g_DSYQgnWpeh",
        "outputId": "15c6d145-6de5-47f7-a230-87a247a418a2"
      },
      "execution_count": 4,
      "outputs": [
        {
          "output_type": "stream",
          "name": "stdout",
          "text": [
            "120\n"
          ]
        }
      ]
    }
  ]
}