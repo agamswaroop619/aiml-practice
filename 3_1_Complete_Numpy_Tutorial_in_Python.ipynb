{
  "nbformat": 4,
  "nbformat_minor": 0,
  "metadata": {
    "colab": {
      "provenance": []
    },
    "kernelspec": {
      "name": "python3",
      "display_name": "Python 3"
    },
    "language_info": {
      "name": "python"
    }
  },
  "cells": [
    {
      "cell_type": "markdown",
      "source": [
        "NumPy - Numerical Pythom\n",
        "\n",
        "Advantages of Numpy Arrays:\n",
        "\n",
        "1.   Allows several Mathematical Operations\n",
        "2.   Faster operations\n",
        "\n"
      ],
      "metadata": {
        "id": "MSTHCipnbkVK"
      }
    },
    {
      "cell_type": "code",
      "execution_count": 2,
      "metadata": {
        "id": "Ok0WDR6HXPD9"
      },
      "outputs": [],
      "source": [
        "import numpy as np\n"
      ]
    },
    {
      "cell_type": "markdown",
      "source": [
        "List vs Numpy (Time taken)"
      ],
      "metadata": {
        "id": "__cIt0clcnXF"
      }
    },
    {
      "cell_type": "code",
      "source": [
        "from time import process_time"
      ],
      "metadata": {
        "id": "JcQnEi1zcVBI"
      },
      "execution_count": 2,
      "outputs": []
    },
    {
      "cell_type": "code",
      "source": [
        "python_list = [i for i in range(100000)]\n",
        "\n",
        "start_t = process_time();\n",
        "\n",
        "python_list = [i+5 for i in range(100000)]\n",
        "\n",
        "end_t = process_time();\n",
        "\n",
        "print(end_t- start_t)"
      ],
      "metadata": {
        "colab": {
          "base_uri": "https://localhost:8080/"
        },
        "id": "KXxZE7l1cy0L",
        "outputId": "d45779d2-bf09-482b-8d56-32178eab5c1f"
      },
      "execution_count": 5,
      "outputs": [
        {
          "output_type": "stream",
          "name": "stdout",
          "text": [
            "0.015168968000000227\n"
          ]
        }
      ]
    },
    {
      "cell_type": "code",
      "source": [
        "np_array = np.array([i for i in range(100000)])\n",
        "\n",
        "start_t = process_time();\n",
        "\n",
        "np_array += 5\n",
        "\n",
        "end_t = process_time();\n",
        "\n",
        "print(end_t- start_t)"
      ],
      "metadata": {
        "colab": {
          "base_uri": "https://localhost:8080/"
        },
        "id": "DddpJahkdMaF",
        "outputId": "129a65c9-0166-4d75-b01a-8444b34528b9"
      },
      "execution_count": 7,
      "outputs": [
        {
          "output_type": "stream",
          "name": "stdout",
          "text": [
            "0.00047791200000002476\n"
          ]
        }
      ]
    },
    {
      "cell_type": "markdown",
      "source": [
        "Numpy Array"
      ],
      "metadata": {
        "id": "kPEYfdv5e8jx"
      }
    },
    {
      "cell_type": "code",
      "source": [
        "#list\n",
        "list1=[1,2,3,4,5]\n",
        "print(list1)\n",
        "type(list1)"
      ],
      "metadata": {
        "colab": {
          "base_uri": "https://localhost:8080/"
        },
        "id": "B1oYtOyudpuT",
        "outputId": "ef16752e-99ba-4c8f-d863-6969d9a2c747"
      },
      "execution_count": 8,
      "outputs": [
        {
          "output_type": "stream",
          "name": "stdout",
          "text": [
            "[1, 2, 3, 4, 5]\n"
          ]
        },
        {
          "output_type": "execute_result",
          "data": {
            "text/plain": [
              "list"
            ]
          },
          "metadata": {},
          "execution_count": 8
        }
      ]
    },
    {
      "cell_type": "code",
      "source": [
        "nparray= np.array([1,2,3,4,5])\n",
        "print(nparray)\n",
        "type(nparray)"
      ],
      "metadata": {
        "colab": {
          "base_uri": "https://localhost:8080/"
        },
        "id": "MigJ83YcfJN9",
        "outputId": "1f1459cf-a929-48bc-96cb-e37a7e18cda6"
      },
      "execution_count": 9,
      "outputs": [
        {
          "output_type": "stream",
          "name": "stdout",
          "text": [
            "[1 2 3 4 5]\n"
          ]
        },
        {
          "output_type": "execute_result",
          "data": {
            "text/plain": [
              "numpy.ndarray"
            ]
          },
          "metadata": {},
          "execution_count": 9
        }
      ]
    },
    {
      "cell_type": "code",
      "source": [
        "nparray.shape"
      ],
      "metadata": {
        "colab": {
          "base_uri": "https://localhost:8080/"
        },
        "id": "5xD0zFOofWvS",
        "outputId": "f85a4958-d091-490b-8c12-5fa8568a9efa"
      },
      "execution_count": 10,
      "outputs": [
        {
          "output_type": "execute_result",
          "data": {
            "text/plain": [
              "(5,)"
            ]
          },
          "metadata": {},
          "execution_count": 10
        }
      ]
    },
    {
      "cell_type": "code",
      "source": [
        "a = np.array([(1,2,3,4),(5,4,3,2)])\n",
        "a.shape"
      ],
      "metadata": {
        "colab": {
          "base_uri": "https://localhost:8080/"
        },
        "id": "Rf7mH3zhffJy",
        "outputId": "a8603bf2-6ac6-4513-94d9-d19c3e659a87"
      },
      "execution_count": 12,
      "outputs": [
        {
          "output_type": "execute_result",
          "data": {
            "text/plain": [
              "(2, 4)"
            ]
          },
          "metadata": {},
          "execution_count": 12
        }
      ]
    },
    {
      "cell_type": "code",
      "source": [
        "a = np.array([(1,2,3,4),(5,4,3,2)],dtype=float)\n",
        "print(a)"
      ],
      "metadata": {
        "colab": {
          "base_uri": "https://localhost:8080/"
        },
        "id": "3hta6776hji3",
        "outputId": "03672db0-32a7-49df-c5c8-6d7edd5c2628"
      },
      "execution_count": 14,
      "outputs": [
        {
          "output_type": "stream",
          "name": "stdout",
          "text": [
            "[[1. 2. 3. 4.]\n",
            " [5. 4. 3. 2.]]\n"
          ]
        }
      ]
    },
    {
      "cell_type": "markdown",
      "source": [
        "Initial Placeholders in numpy array"
      ],
      "metadata": {
        "id": "KbvKTDWzovNh"
      }
    },
    {
      "cell_type": "code",
      "source": [
        "x = np.zeros((4,5))\n",
        "print(x)"
      ],
      "metadata": {
        "colab": {
          "base_uri": "https://localhost:8080/"
        },
        "id": "E11AYjCXksep",
        "outputId": "2c4ee583-9bf2-4538-8cbd-2543dd9a4ad2"
      },
      "execution_count": 5,
      "outputs": [
        {
          "output_type": "stream",
          "name": "stdout",
          "text": [
            "[[0. 0. 0. 0. 0.]\n",
            " [0. 0. 0. 0. 0.]\n",
            " [0. 0. 0. 0. 0.]\n",
            " [0. 0. 0. 0. 0.]]\n"
          ]
        }
      ]
    },
    {
      "cell_type": "code",
      "source": [
        "y = np.ones((4,5))\n",
        "print(y)"
      ],
      "metadata": {
        "colab": {
          "base_uri": "https://localhost:8080/"
        },
        "id": "e_UCjJQzo7GS",
        "outputId": "75d974e6-e342-4aa4-f24b-16f3285b253b"
      },
      "execution_count": 6,
      "outputs": [
        {
          "output_type": "stream",
          "name": "stdout",
          "text": [
            "[[1. 1. 1. 1. 1.]\n",
            " [1. 1. 1. 1. 1.]\n",
            " [1. 1. 1. 1. 1.]\n",
            " [1. 1. 1. 1. 1.]]\n"
          ]
        }
      ]
    },
    {
      "cell_type": "code",
      "source": [
        "z = np.full((5,4),5.0)"
      ],
      "metadata": {
        "id": "bY7fBa9XpUKU"
      },
      "execution_count": 7,
      "outputs": []
    },
    {
      "cell_type": "code",
      "source": [
        "print(z)"
      ],
      "metadata": {
        "colab": {
          "base_uri": "https://localhost:8080/"
        },
        "id": "85mpINJQpdH4",
        "outputId": "8fe6ffd0-7dc0-4575-ec69-6435e299e978"
      },
      "execution_count": 8,
      "outputs": [
        {
          "output_type": "stream",
          "name": "stdout",
          "text": [
            "[[5. 5. 5. 5.]\n",
            " [5. 5. 5. 5.]\n",
            " [5. 5. 5. 5.]\n",
            " [5. 5. 5. 5.]\n",
            " [5. 5. 5. 5.]]\n"
          ]
        }
      ]
    },
    {
      "cell_type": "code",
      "source": [
        "#Creating Identity Matrix\n",
        "a =np.eye(4)\n",
        "print(a)"
      ],
      "metadata": {
        "colab": {
          "base_uri": "https://localhost:8080/"
        },
        "id": "8gQv5IE6pfEP",
        "outputId": "e722002e-f338-4da8-ed27-990ac80b4a14"
      },
      "execution_count": 9,
      "outputs": [
        {
          "output_type": "stream",
          "name": "stdout",
          "text": [
            "[[1. 0. 0. 0.]\n",
            " [0. 1. 0. 0.]\n",
            " [0. 0. 1. 0.]\n",
            " [0. 0. 0. 1.]]\n"
          ]
        }
      ]
    },
    {
      "cell_type": "code",
      "source": [
        "#Random Value\n",
        "b = np.random.random((2,3))\n",
        "print(b)"
      ],
      "metadata": {
        "colab": {
          "base_uri": "https://localhost:8080/"
        },
        "id": "g5tM0mFEps6q",
        "outputId": "565c0aa9-252a-41d1-a467-fe19bcd0155a"
      },
      "execution_count": 10,
      "outputs": [
        {
          "output_type": "stream",
          "name": "stdout",
          "text": [
            "[[0.29863017 0.01970503 0.00648898]\n",
            " [0.94887945 0.64082674 0.19662188]]\n"
          ]
        }
      ]
    },
    {
      "cell_type": "code",
      "source": [
        "#Random Integers\n",
        "b = np.random.randint(10,100,(2,3))\n",
        "print(b)"
      ],
      "metadata": {
        "colab": {
          "base_uri": "https://localhost:8080/"
        },
        "id": "eahXP_E1qmUS",
        "outputId": "2a59a3ea-cef8-40da-fbf6-8e022a59c81b"
      },
      "execution_count": 11,
      "outputs": [
        {
          "output_type": "stream",
          "name": "stdout",
          "text": [
            "[[47 78 10]\n",
            " [38 83 52]]\n"
          ]
        }
      ]
    },
    {
      "cell_type": "code",
      "source": [
        "#Array of Evenly Spaced Values\n",
        "d= np.linspace(10,40,5)\n",
        "print(d)\n",
        "#Starting Value, Ending Value, No. of Values assigned"
      ],
      "metadata": {
        "colab": {
          "base_uri": "https://localhost:8080/"
        },
        "id": "WWwIq80Zq00U",
        "outputId": "506ef36b-888c-4e09-a922-3d37b1b579f9"
      },
      "execution_count": 3,
      "outputs": [
        {
          "output_type": "stream",
          "name": "stdout",
          "text": [
            "[10.  17.5 25.  32.5 40. ]\n"
          ]
        }
      ]
    },
    {
      "cell_type": "code",
      "source": [
        "#Array of Evenly Spaced Values (Specifying the Step)\n",
        "e= np.arange(10,40,5)\n",
        "print(e)"
      ],
      "metadata": {
        "colab": {
          "base_uri": "https://localhost:8080/"
        },
        "id": "2oF9Jf3g55ta",
        "outputId": "56d158b6-1c2d-4933-9825-a0099dc3fca4"
      },
      "execution_count": 5,
      "outputs": [
        {
          "output_type": "stream",
          "name": "stdout",
          "text": [
            "[10 15 20 25 30 35]\n"
          ]
        }
      ]
    },
    {
      "cell_type": "code",
      "source": [
        "#Convert a list to a numpy array\n",
        "list1=[10,20,30,35,45]\n",
        "np_array=np.asarray(list1)\n",
        "print(np_array)"
      ],
      "metadata": {
        "colab": {
          "base_uri": "https://localhost:8080/"
        },
        "id": "pL_cuwA16-Hs",
        "outputId": "b7c5a62e-9422-4906-8c19-af3b5618858c"
      },
      "execution_count": 6,
      "outputs": [
        {
          "output_type": "stream",
          "name": "stdout",
          "text": [
            "[10 20 30 35 45]\n"
          ]
        }
      ]
    },
    {
      "cell_type": "markdown",
      "source": [
        "Analysing a NumPy array"
      ],
      "metadata": {
        "id": "bidSPfS97o1h"
      }
    },
    {
      "cell_type": "code",
      "source": [
        "c = np.random.randint(10,40,(5,5))\n",
        "print(c)"
      ],
      "metadata": {
        "colab": {
          "base_uri": "https://localhost:8080/"
        },
        "id": "t5-lE7CA7iM3",
        "outputId": "79ef59c4-f2b3-4fc1-c33d-f07d1d1b387a"
      },
      "execution_count": 7,
      "outputs": [
        {
          "output_type": "stream",
          "name": "stdout",
          "text": [
            "[[32 35 36 26 16]\n",
            " [23 21 35 18 37]\n",
            " [21 35 11 26 10]\n",
            " [13 31 30 39 25]\n",
            " [20 18 10 29 26]]\n"
          ]
        }
      ]
    },
    {
      "cell_type": "code",
      "source": [
        "#Number of Dimensions\n",
        "print(c.ndim)"
      ],
      "metadata": {
        "colab": {
          "base_uri": "https://localhost:8080/"
        },
        "id": "sR0IcOSa8QRl",
        "outputId": "6bfb2ba7-fddc-407a-dac0-fbe0a9fee684"
      },
      "execution_count": 8,
      "outputs": [
        {
          "output_type": "stream",
          "name": "stdout",
          "text": [
            "2\n"
          ]
        }
      ]
    },
    {
      "cell_type": "code",
      "source": [
        "#No. of elements\n",
        "print(c.size)\n",
        "#Data Type\n",
        "print(c.dtype)"
      ],
      "metadata": {
        "colab": {
          "base_uri": "https://localhost:8080/"
        },
        "id": "eReBQdm48nIJ",
        "outputId": "4c4355d9-ede5-4c82-a45b-782127261049"
      },
      "execution_count": 9,
      "outputs": [
        {
          "output_type": "stream",
          "name": "stdout",
          "text": [
            "25\n",
            "int64\n"
          ]
        }
      ]
    },
    {
      "cell_type": "markdown",
      "source": [
        "Mathematical Operations on a NumPy Array"
      ],
      "metadata": {
        "id": "xVNgAWxu9aS_"
      }
    },
    {
      "cell_type": "code",
      "source": [
        "a = np.random.randint(0,10,(3,3))\n",
        "b = np.random.randint(10,20,(3,3))"
      ],
      "metadata": {
        "id": "KWF8rVdj9RB9"
      },
      "execution_count": 10,
      "outputs": []
    },
    {
      "cell_type": "code",
      "source": [
        "print(a)\n",
        "print(b)\n",
        "print(a-b)\n",
        "print(a+b)\n",
        "print(a*b)\n",
        "print(a/b)"
      ],
      "metadata": {
        "colab": {
          "base_uri": "https://localhost:8080/"
        },
        "id": "8ycbHDDT98yq",
        "outputId": "e9ba2964-b0b3-4283-c06a-ecbade25c959"
      },
      "execution_count": 11,
      "outputs": [
        {
          "output_type": "stream",
          "name": "stdout",
          "text": [
            "[[8 8 3]\n",
            " [5 2 5]\n",
            " [0 2 5]]\n",
            "[[13 19 18]\n",
            " [13 12 18]\n",
            " [17 17 10]]\n",
            "[[ -5 -11 -15]\n",
            " [ -8 -10 -13]\n",
            " [-17 -15  -5]]\n",
            "[[21 27 21]\n",
            " [18 14 23]\n",
            " [17 19 15]]\n",
            "[[104 152  54]\n",
            " [ 65  24  90]\n",
            " [  0  34  50]]\n",
            "[[0.61538462 0.42105263 0.16666667]\n",
            " [0.38461538 0.16666667 0.27777778]\n",
            " [0.         0.11764706 0.5       ]]\n"
          ]
        }
      ]
    },
    {
      "cell_type": "markdown",
      "source": [
        "Array Manipulation in Python"
      ],
      "metadata": {
        "id": "X1nC9-gT-gIU"
      }
    },
    {
      "cell_type": "code",
      "source": [
        "array = np.random.randint(3,40,(5,5))\n",
        "print(array)\n",
        "#transpose\n",
        "array1= np.transpose(array)\n",
        "print(array1)"
      ],
      "metadata": {
        "colab": {
          "base_uri": "https://localhost:8080/"
        },
        "id": "AqS3x9AI-Fo9",
        "outputId": "6de8c21f-ba35-4006-f370-6b4eefa62c9e"
      },
      "execution_count": 14,
      "outputs": [
        {
          "output_type": "stream",
          "name": "stdout",
          "text": [
            "[[34  7 20 39 24]\n",
            " [16 11  9 11 34]\n",
            " [24  4 18 29 37]\n",
            " [33 14 39 33 37]\n",
            " [34  7 18  7 17]]\n",
            "[[34 16 24 33 34]\n",
            " [ 7 11  4 14  7]\n",
            " [20  9 18 39 18]\n",
            " [39 11 29 33  7]\n",
            " [24 34 37 37 17]]\n"
          ]
        }
      ]
    },
    {
      "cell_type": "code",
      "source": [
        "array4 = np.random.randint(3,40,(5,2))\n",
        "print(array4)\n",
        "array3= array4.reshape(2,5)\n",
        "print(array3)"
      ],
      "metadata": {
        "colab": {
          "base_uri": "https://localhost:8080/"
        },
        "id": "1txaFZI1_RFm",
        "outputId": "72547352-aadb-42c1-cecd-60369ca3ba24"
      },
      "execution_count": 18,
      "outputs": [
        {
          "output_type": "stream",
          "name": "stdout",
          "text": [
            "[[27 23]\n",
            " [15 27]\n",
            " [36 30]\n",
            " [32 20]\n",
            " [10  3]]\n",
            "[[27 23 15 27 36]\n",
            " [30 32 20 10  3]]\n"
          ]
        }
      ]
    },
    {
      "cell_type": "code",
      "source": [],
      "metadata": {
        "id": "UZyK_HBfAY2j"
      },
      "execution_count": null,
      "outputs": []
    }
  ]
}