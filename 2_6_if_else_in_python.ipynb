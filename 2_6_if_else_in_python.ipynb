{
  "nbformat": 4,
  "nbformat_minor": 0,
  "metadata": {
    "colab": {
      "provenance": []
    },
    "kernelspec": {
      "name": "python3",
      "display_name": "Python 3"
    },
    "language_info": {
      "name": "python"
    }
  },
  "cells": [
    {
      "cell_type": "markdown",
      "source": [
        "Simple if else statement"
      ],
      "metadata": {
        "id": "0FV-l_l--_Gy"
      }
    },
    {
      "cell_type": "code",
      "source": [
        "\n",
        "b=50\n",
        "a = int(input(\"enter\"))\n",
        "if(a>b):\n",
        " print(a)\n",
        "else:\n",
        " print(b)"
      ],
      "metadata": {
        "colab": {
          "base_uri": "https://localhost:8080/"
        },
        "id": "QfRv7KQF--2q",
        "outputId": "ea8bca61-b2d5-46ea-a491-7471520fafcb"
      },
      "execution_count": 4,
      "outputs": [
        {
          "output_type": "stream",
          "name": "stdout",
          "text": [
            "enter29\n",
            "50\n"
          ]
        }
      ]
    },
    {
      "cell_type": "markdown",
      "source": [
        "If Elif statement"
      ],
      "metadata": {
        "id": "casJmH-y_jm6"
      }
    },
    {
      "cell_type": "code",
      "execution_count": 5,
      "metadata": {
        "colab": {
          "base_uri": "https://localhost:8080/"
        },
        "id": "a3pQVCIUXILj",
        "outputId": "9c91235c-8a46-4cce-93fd-df5c361e1615"
      },
      "outputs": [
        {
          "output_type": "stream",
          "name": "stdout",
          "text": [
            "enter 1st no10\n",
            "enter 2nd no20\n",
            "enter 3rd no12\n",
            "20\n"
          ]
        }
      ],
      "source": [
        "a =int(input(\"enter 1st no\"))\n",
        "b =int(input(\"enter 2nd no\"))\n",
        "c =int(input(\"enter 3rd no\"))\n",
        "\n",
        "if(b<a>c):\n",
        "  print(a)\n",
        "elif(a<b>c):\n",
        "  print(b)\n",
        "else:\n",
        "  print(c)"
      ]
    },
    {
      "cell_type": "markdown",
      "source": [
        "Indentation is the most important takeaway here!"
      ],
      "metadata": {
        "id": "V3xPun0qAT-P"
      }
    }
  ]
}