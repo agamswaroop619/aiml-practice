{
  "nbformat": 4,
  "nbformat_minor": 0,
  "metadata": {
    "colab": {
      "provenance": []
    },
    "kernelspec": {
      "name": "python3",
      "display_name": "Python 3"
    },
    "language_info": {
      "name": "python"
    }
  },
  "cells": [
    {
      "cell_type": "markdown",
      "source": [
        "2 languages used in ML:\n",
        "\n",
        "1 => Python\n",
        "\n",
        "2 => R"
      ],
      "metadata": {
        "id": "aemVIVjhfKjz"
      }
    },
    {
      "cell_type": "markdown",
      "source": [
        "#Print Statement\n",
        "\n"
      ],
      "metadata": {
        "id": "JlCS3gnogQ3J"
      }
    },
    {
      "cell_type": "code",
      "execution_count": null,
      "metadata": {
        "colab": {
          "base_uri": "https://localhost:8080/"
        },
        "id": "_bKXpGW_fDlw",
        "outputId": "4ded9738-5e61-4d6f-85e3-d1f69f909b9a"
      },
      "outputs": [
        {
          "output_type": "stream",
          "name": "stdout",
          "text": [
            "ML\n"
          ]
        }
      ],
      "source": [
        "\n",
        "print(\"ML\")"
      ]
    },
    {
      "cell_type": "code",
      "source": [
        "print(\"ML\"+\"PROJECT\")"
      ],
      "metadata": {
        "colab": {
          "base_uri": "https://localhost:8080/"
        },
        "id": "iIfdZZnCfvf6",
        "outputId": "930c0b1b-efd4-40f7-a2ae-250c270353d8"
      },
      "execution_count": null,
      "outputs": [
        {
          "output_type": "stream",
          "name": "stdout",
          "text": [
            "MLPROJECT\n"
          ]
        }
      ]
    },
    {
      "cell_type": "code",
      "source": [
        "print(8+5)"
      ],
      "metadata": {
        "colab": {
          "base_uri": "https://localhost:8080/"
        },
        "id": "z2zzRNbYgBb9",
        "outputId": "b3592a4e-0611-44f2-b380-c60c29993f1c"
      },
      "execution_count": null,
      "outputs": [
        {
          "output_type": "stream",
          "name": "stdout",
          "text": [
            "13\n"
          ]
        }
      ]
    },
    {
      "cell_type": "markdown",
      "source": [
        "Basic Data Types:\n",
        "\n",
        "1 => int\n",
        "\n",
        "2 => float\n",
        "\n",
        "3 => str"
      ],
      "metadata": {
        "id": "rZlQ4Uy6hB5s"
      }
    },
    {
      "cell_type": "code",
      "source": [
        "type(3)"
      ],
      "metadata": {
        "colab": {
          "base_uri": "https://localhost:8080/"
        },
        "id": "6QmxTlZnjNux",
        "outputId": "0724651a-dc96-44f5-9305-20506fabc127"
      },
      "execution_count": null,
      "outputs": [
        {
          "output_type": "execute_result",
          "data": {
            "text/plain": [
              "int"
            ]
          },
          "metadata": {},
          "execution_count": 5
        }
      ]
    },
    {
      "cell_type": "code",
      "source": [
        "type(5.4)"
      ],
      "metadata": {
        "colab": {
          "base_uri": "https://localhost:8080/"
        },
        "id": "_bjzMLy3jPg_",
        "outputId": "9af239c6-4982-4500-d49d-a5525e9e395e"
      },
      "execution_count": null,
      "outputs": [
        {
          "output_type": "execute_result",
          "data": {
            "text/plain": [
              "float"
            ]
          },
          "metadata": {},
          "execution_count": 6
        }
      ]
    },
    {
      "cell_type": "code",
      "source": [
        "type(\"5.4\")\n"
      ],
      "metadata": {
        "colab": {
          "base_uri": "https://localhost:8080/"
        },
        "id": "oQt0PvLqjSF7",
        "outputId": "bc7dd3a6-f061-46d5-d500-7fce9e0935e5"
      },
      "execution_count": null,
      "outputs": [
        {
          "output_type": "execute_result",
          "data": {
            "text/plain": [
              "str"
            ]
          },
          "metadata": {},
          "execution_count": 9
        }
      ]
    },
    {
      "cell_type": "markdown",
      "source": [
        "#Constants & Variables"
      ],
      "metadata": {
        "id": "C2xKzBdgjka2"
      }
    },
    {
      "cell_type": "code",
      "source": [
        "superhero = \"Luffy\"\n",
        "print(superhero)"
      ],
      "metadata": {
        "colab": {
          "base_uri": "https://localhost:8080/"
        },
        "id": "ExVVUqd-jpnT",
        "outputId": "288681a7-c8dd-484a-843b-2ec13d94a554"
      },
      "execution_count": null,
      "outputs": [
        {
          "output_type": "stream",
          "name": "stdout",
          "text": [
            "Luffy\n"
          ]
        }
      ]
    },
    {
      "cell_type": "code",
      "source": [
        "hero1,hero2,hero3 = \"Luffy\",\"Sanji\",\"Zoro\"\n",
        "print(hero1)\n",
        "print(hero2)\n",
        "print(hero3)"
      ],
      "metadata": {
        "colab": {
          "base_uri": "https://localhost:8080/"
        },
        "id": "L3EI96Pwj9aW",
        "outputId": "cdd07b3f-e1b2-423e-81fe-293230283229"
      },
      "execution_count": null,
      "outputs": [
        {
          "output_type": "stream",
          "name": "stdout",
          "text": [
            "Luffy\n",
            "Sanji\n",
            "Zoro\n"
          ]
        }
      ]
    },
    {
      "cell_type": "code",
      "source": [
        "x = y = z =23\n",
        "print(x)\n",
        "print(y)\n",
        "print(z)"
      ],
      "metadata": {
        "colab": {
          "base_uri": "https://localhost:8080/"
        },
        "id": "mrFDV2q3l9GU",
        "outputId": "791f5b3b-f8bd-4c86-e3da-1b328488b986"
      },
      "execution_count": 1,
      "outputs": [
        {
          "output_type": "stream",
          "name": "stdout",
          "text": [
            "23\n",
            "23\n",
            "23\n"
          ]
        }
      ]
    },
    {
      "cell_type": "markdown",
      "source": [
        "#Input Function\n"
      ],
      "metadata": {
        "id": "9-mi_EGamRwh"
      }
    },
    {
      "cell_type": "code",
      "source": [
        "number_1 = int(input(\"Enter the first number\"))\n",
        "number_2 = int(input(\"Enter the second number\"))\n",
        "print(number_1 +number_2)"
      ],
      "metadata": {
        "colab": {
          "base_uri": "https://localhost:8080/"
        },
        "id": "WV87PeB7mVGo",
        "outputId": "1b670421-37f3-4165-d1ac-3a34bbb7fe26"
      },
      "execution_count": 4,
      "outputs": [
        {
          "output_type": "stream",
          "name": "stdout",
          "text": [
            "Enter the first number12\n",
            "Enter the second number12\n",
            "24\n"
          ]
        }
      ]
    },
    {
      "cell_type": "code",
      "source": [
        "a =5.4\n",
        "print(int(a))\n",
        "a =5.6\n",
        "print(int(a))"
      ],
      "metadata": {
        "colab": {
          "base_uri": "https://localhost:8080/"
        },
        "id": "vX4RU2g_mstq",
        "outputId": "5a623e28-cae2-4fdc-b960-76fa7dc5e2f2"
      },
      "execution_count": 6,
      "outputs": [
        {
          "output_type": "stream",
          "name": "stdout",
          "text": [
            "5\n",
            "5\n"
          ]
        }
      ]
    }
  ]
}