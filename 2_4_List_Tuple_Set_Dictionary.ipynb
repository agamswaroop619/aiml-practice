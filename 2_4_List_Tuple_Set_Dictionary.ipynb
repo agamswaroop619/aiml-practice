{
  "nbformat": 4,
  "nbformat_minor": 0,
  "metadata": {
    "colab": {
      "provenance": []
    },
    "kernelspec": {
      "name": "python3",
      "display_name": "Python 3"
    },
    "language_info": {
      "name": "python"
    }
  },
  "cells": [
    {
      "cell_type": "markdown",
      "source": [
        "Mutable Objects\n",
        "\n",
        "1.List\n",
        "\n",
        "2.Set\n",
        "\n",
        "3.Dictionary\n"
      ],
      "metadata": {
        "id": "WRIwb7YzHSLT"
      }
    },
    {
      "cell_type": "markdown",
      "source": [
        "#List\n"
      ],
      "metadata": {
        "id": "ZOquR1q9HbNR"
      }
    },
    {
      "cell_type": "code",
      "execution_count": 2,
      "metadata": {
        "colab": {
          "base_uri": "https://localhost:8080/"
        },
        "id": "LRPjKXYUHILY",
        "outputId": "d8102e6c-3306-41bc-aef4-062f33f7030a"
      },
      "outputs": [
        {
          "output_type": "stream",
          "name": "stdout",
          "text": [
            "[1, 2, 3, 4, 5]\n"
          ]
        },
        {
          "output_type": "execute_result",
          "data": {
            "text/plain": [
              "list"
            ]
          },
          "metadata": {},
          "execution_count": 2
        }
      ],
      "source": [
        "#List should be inculded in square brackets\n",
        "my_list=[1,2,3,4,5]\n",
        "print(my_list)\n",
        "type(my_list)"
      ]
    },
    {
      "cell_type": "code",
      "source": [
        "my_list=[1,\"2 Sunday\",True,4.7,5]\n",
        "print(my_list)\n",
        "type(my_list)"
      ],
      "metadata": {
        "colab": {
          "base_uri": "https://localhost:8080/"
        },
        "id": "sk9QIreuHoz-",
        "outputId": "020f6ed8-6dbc-4990-9251-aa6dee6010ca"
      },
      "execution_count": 4,
      "outputs": [
        {
          "output_type": "stream",
          "name": "stdout",
          "text": [
            "[1, '2 Sunday', True, 4.7, 5]\n"
          ]
        },
        {
          "output_type": "execute_result",
          "data": {
            "text/plain": [
              "list"
            ]
          },
          "metadata": {},
          "execution_count": 4
        }
      ]
    },
    {
      "cell_type": "markdown",
      "source": [
        "Lists are Mutable"
      ],
      "metadata": {
        "id": "iSDC-gnBH66c"
      }
    },
    {
      "cell_type": "code",
      "source": [
        "#Add elements to a list\n",
        "my_list=[1,\"2 Sunday\",True,4.7,5]\n",
        "my_list.append(\"NEW\")\n",
        "print(my_list)"
      ],
      "metadata": {
        "colab": {
          "base_uri": "https://localhost:8080/"
        },
        "id": "13Cmtb2tH0RM",
        "outputId": "1b840ac7-88d3-448b-f61a-512b1666f74f"
      },
      "execution_count": 5,
      "outputs": [
        {
          "output_type": "stream",
          "name": "stdout",
          "text": [
            "[1, '2 Sunday', True, 4.7, 5, 'NEW']\n"
          ]
        }
      ]
    },
    {
      "cell_type": "code",
      "source": [
        "print(my_list[1])"
      ],
      "metadata": {
        "colab": {
          "base_uri": "https://localhost:8080/"
        },
        "id": "BaHcMjxQIKHK",
        "outputId": "602fbfd5-6259-4005-9fd8-9e4fcf84ac5e"
      },
      "execution_count": 6,
      "outputs": [
        {
          "output_type": "stream",
          "name": "stdout",
          "text": [
            "2 Sunday\n"
          ]
        }
      ]
    },
    {
      "cell_type": "code",
      "source": [
        "#lists allows duplicate value\n",
        "list1=[1,4,\"twenty-five\",4]\n",
        "print(list1)"
      ],
      "metadata": {
        "colab": {
          "base_uri": "https://localhost:8080/"
        },
        "id": "uVTWWFwHIRM9",
        "outputId": "8ed9fa39-ff5c-4675-e91d-8880c022fbc1"
      },
      "execution_count": 7,
      "outputs": [
        {
          "output_type": "stream",
          "name": "stdout",
          "text": [
            "[1, 4, 'twenty-five', 4]\n"
          ]
        }
      ]
    },
    {
      "cell_type": "code",
      "source": [
        "print(len(list1))"
      ],
      "metadata": {
        "colab": {
          "base_uri": "https://localhost:8080/"
        },
        "id": "-jz5hJZ0IcZZ",
        "outputId": "dc63db37-75d0-44dd-8edf-d646295ae12a"
      },
      "execution_count": 8,
      "outputs": [
        {
          "output_type": "stream",
          "name": "stdout",
          "text": [
            "4\n"
          ]
        }
      ]
    },
    {
      "cell_type": "code",
      "source": [
        "#Deleting elements in a List\n",
        "del list1[1]\n",
        "print(list1)"
      ],
      "metadata": {
        "colab": {
          "base_uri": "https://localhost:8080/"
        },
        "id": "qyKqkuIdIhvo",
        "outputId": "ce97cdc7-6039-4362-cb6b-704b9b1ae660"
      },
      "execution_count": 9,
      "outputs": [
        {
          "output_type": "stream",
          "name": "stdout",
          "text": [
            "[1, 'twenty-five', 4]\n"
          ]
        }
      ]
    },
    {
      "cell_type": "code",
      "source": [
        "#Joining 2 lists\n",
        "listnew= list1+ my_list;\n",
        "print(listnew)"
      ],
      "metadata": {
        "colab": {
          "base_uri": "https://localhost:8080/"
        },
        "id": "LTfLHS-VJfrP",
        "outputId": "13f5409e-5a54-42d1-cdb2-4cecbce5ff61"
      },
      "execution_count": 10,
      "outputs": [
        {
          "output_type": "stream",
          "name": "stdout",
          "text": [
            "[1, 'twenty-five', 4, 1, '2 Sunday', True, 4.7, 5, 'NEW']\n"
          ]
        }
      ]
    },
    {
      "cell_type": "markdown",
      "source": [
        "#Tuple"
      ],
      "metadata": {
        "id": "Lp9nOr8mJx7d"
      }
    },
    {
      "cell_type": "markdown",
      "source": [
        "These are immutable"
      ],
      "metadata": {
        "id": "2lkPGCwxJ4Ll"
      }
    },
    {
      "cell_type": "code",
      "source": [
        "tuple_1 =(1,2,3,4,5)\n",
        "print(tuple_1)\n",
        "type(tuple_1)"
      ],
      "metadata": {
        "colab": {
          "base_uri": "https://localhost:8080/"
        },
        "id": "zWzpYIHWJuHN",
        "outputId": "b767b307-a51d-4d9c-9b6b-81e5fbe00b47"
      },
      "execution_count": 11,
      "outputs": [
        {
          "output_type": "stream",
          "name": "stdout",
          "text": [
            "(1, 2, 3, 4, 5)\n"
          ]
        },
        {
          "output_type": "execute_result",
          "data": {
            "text/plain": [
              "tuple"
            ]
          },
          "metadata": {},
          "execution_count": 11
        }
      ]
    },
    {
      "cell_type": "code",
      "source": [
        "#Allows multiple data types\n",
        "tuple_2 =(1,\"2\",True,4,5)\n",
        "print(tuple_2)\n",
        "type(tuple_2)"
      ],
      "metadata": {
        "colab": {
          "base_uri": "https://localhost:8080/"
        },
        "id": "PEpmFUYSMYnD",
        "outputId": "045408e1-aa47-41eb-8644-7b7db50d7114"
      },
      "execution_count": 12,
      "outputs": [
        {
          "output_type": "stream",
          "name": "stdout",
          "text": [
            "(1, '2', True, 4, 5)\n"
          ]
        },
        {
          "output_type": "execute_result",
          "data": {
            "text/plain": [
              "tuple"
            ]
          },
          "metadata": {},
          "execution_count": 12
        }
      ]
    },
    {
      "cell_type": "code",
      "source": [
        "#Converting a list to a tuple\n",
        "my_list=[1,\"2 Mon\", 3.6]\n",
        "my_tuple=tuple(my_list)\n",
        "print(my_tuple)\n",
        "type(my_tuple)"
      ],
      "metadata": {
        "colab": {
          "base_uri": "https://localhost:8080/"
        },
        "id": "vXMUj77yMlF4",
        "outputId": "eec09bbf-91c1-4730-df9b-ff3383692180"
      },
      "execution_count": 17,
      "outputs": [
        {
          "output_type": "stream",
          "name": "stdout",
          "text": [
            "(1, '2 Mon', 3.6)\n"
          ]
        },
        {
          "output_type": "execute_result",
          "data": {
            "text/plain": [
              "tuple"
            ]
          },
          "metadata": {},
          "execution_count": 17
        }
      ]
    },
    {
      "cell_type": "code",
      "source": [
        "print(my_tuple[0])"
      ],
      "metadata": {
        "colab": {
          "base_uri": "https://localhost:8080/"
        },
        "id": "yuOZ2jQxM6eR",
        "outputId": "4f6b09be-4800-4c26-a196-d5862fe9d9eb"
      },
      "execution_count": 19,
      "outputs": [
        {
          "output_type": "stream",
          "name": "stdout",
          "text": [
            "1\n"
          ]
        }
      ]
    },
    {
      "cell_type": "markdown",
      "source": [
        "#Set\n"
      ],
      "metadata": {
        "id": "ylREB47vNdR6"
      }
    },
    {
      "cell_type": "code",
      "source": [
        "#Set --> Curly Brackets\n",
        "my_Set ={1,2,3,4,5}\n",
        "print(my_Set)\n",
        "type(my_Set)"
      ],
      "metadata": {
        "colab": {
          "base_uri": "https://localhost:8080/"
        },
        "id": "Hr3tMkq2Nc16",
        "outputId": "879c6f37-0f49-4a46-a051-52ae42f56589"
      },
      "execution_count": 22,
      "outputs": [
        {
          "output_type": "stream",
          "name": "stdout",
          "text": [
            "{1, 2, 3, 4, 5}\n"
          ]
        },
        {
          "output_type": "execute_result",
          "data": {
            "text/plain": [
              "set"
            ]
          },
          "metadata": {},
          "execution_count": 22
        }
      ]
    },
    {
      "cell_type": "code",
      "source": [
        "#Doesnt support indexing\n",
        "list_1= [1,\"Test\", 5]\n",
        "x=set(list_1)\n",
        "print(x)"
      ],
      "metadata": {
        "colab": {
          "base_uri": "https://localhost:8080/"
        },
        "id": "vpTX-rqsNQgK",
        "outputId": "312947e7-3df3-4004-fe94-7fddd50b4dfb"
      },
      "execution_count": 23,
      "outputs": [
        {
          "output_type": "stream",
          "name": "stdout",
          "text": [
            "{1, 5, 'Test'}\n"
          ]
        }
      ]
    },
    {
      "cell_type": "code",
      "source": [
        "set_1={1,2,23,23,12,5,12,1,6}\n",
        "print(set_1)"
      ],
      "metadata": {
        "colab": {
          "base_uri": "https://localhost:8080/"
        },
        "id": "JWO2iFvcSP2-",
        "outputId": "894de573-28d0-41ce-b822-b213fb57868b"
      },
      "execution_count": 24,
      "outputs": [
        {
          "output_type": "stream",
          "name": "stdout",
          "text": [
            "{1, 2, 5, 6, 23, 12}\n"
          ]
        }
      ]
    },
    {
      "cell_type": "markdown",
      "source": [
        "#Dictionary"
      ],
      "metadata": {
        "id": "ue0yrQkoSgCz"
      }
    },
    {
      "cell_type": "markdown",
      "source": [
        "Key-Value Pair"
      ],
      "metadata": {
        "id": "L30_3V3hSl1A"
      }
    },
    {
      "cell_type": "code",
      "source": [
        "my_dict = {\"name\":\"Atam\", \"Age\":20, \"Country\":\"India\"}\n",
        "print(my_dict)\n",
        "type(my_dict)"
      ],
      "metadata": {
        "colab": {
          "base_uri": "https://localhost:8080/"
        },
        "id": "5JhDQdpoSc1Z",
        "outputId": "3a55f18f-6ba2-4a53-8a71-a87353a95cdc"
      },
      "execution_count": 25,
      "outputs": [
        {
          "output_type": "stream",
          "name": "stdout",
          "text": [
            "{'name': 'Atam', 'Age': 20, 'Country': 'India'}\n"
          ]
        },
        {
          "output_type": "execute_result",
          "data": {
            "text/plain": [
              "dict"
            ]
          },
          "metadata": {},
          "execution_count": 25
        }
      ]
    },
    {
      "cell_type": "code",
      "source": [
        "print(my_dict[\"name\"])"
      ],
      "metadata": {
        "colab": {
          "base_uri": "https://localhost:8080/"
        },
        "id": "4wBIpcmzUtXF",
        "outputId": "6b9e26e3-8328-4a00-a566-8256152e629a"
      },
      "execution_count": 26,
      "outputs": [
        {
          "output_type": "stream",
          "name": "stdout",
          "text": [
            "Atam\n"
          ]
        }
      ]
    },
    {
      "cell_type": "code",
      "source": [
        "#Dictionary does not allow duplicate values\n",
        "dict1= {\"name\":\"Atam\", \"Age\":20, \"Country\":\"India\",\"name\":\"Atam\", \"Age\":20, \"Country\":\"India\"}\n",
        "print(dict1)"
      ],
      "metadata": {
        "colab": {
          "base_uri": "https://localhost:8080/"
        },
        "id": "UXXFgx7RVSU6",
        "outputId": "7b84b4aa-6db0-49e5-c748-5e9cb145c7cd"
      },
      "execution_count": 28,
      "outputs": [
        {
          "output_type": "stream",
          "name": "stdout",
          "text": [
            "{'name': 'Atam', 'Age': 20, 'Country': 'India'}\n"
          ]
        }
      ]
    },
    {
      "cell_type": "code",
      "source": [],
      "metadata": {
        "id": "s4_1bKhTWac9"
      },
      "execution_count": null,
      "outputs": []
    }
  ]
}