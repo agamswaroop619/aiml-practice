{
  "nbformat": 4,
  "nbformat_minor": 0,
  "metadata": {
    "colab": {
      "provenance": []
    },
    "kernelspec": {
      "name": "python3",
      "display_name": "Python 3"
    },
    "language_info": {
      "name": "python"
    }
  },
  "cells": [
    {
      "cell_type": "markdown",
      "source": [
        "Operators in Python\n",
        "\n",
        "\n",
        "1.   Arithmetric Operators\n",
        "2.   Assignment Operators\n",
        "3.   Comparison Operators\n",
        "1.   Logical Operators\n",
        "2.   Identity Operators\n",
        "3.   Membership Operators\n",
        "\n"
      ],
      "metadata": {
        "id": "YkLkHW40Y2az"
      }
    },
    {
      "cell_type": "markdown",
      "source": [
        "#Arthmetic Operator"
      ],
      "metadata": {
        "id": "h9GwQ3naLQAL"
      }
    },
    {
      "cell_type": "code",
      "execution_count": 2,
      "metadata": {
        "colab": {
          "base_uri": "https://localhost:8080/"
        },
        "id": "s1UB_tZ_XDGd",
        "outputId": "0f44884a-e488-43cc-c1a7-9a8f63b5e16a"
      },
      "outputs": [
        {
          "output_type": "stream",
          "name": "stdout",
          "text": [
            "25\n",
            "15\n",
            "100\n",
            "4.0\n",
            "3200000\n",
            "0\n"
          ]
        }
      ],
      "source": [
        "num1 =20\n",
        "num2 =5\n",
        "\n",
        "#Addition\n",
        "sum=num1+num2\n",
        "print(sum)\n",
        "\n",
        "#Difference\n",
        "diff=num1-num2\n",
        "print(diff)\n",
        "\n",
        "#Product\n",
        "pro=num1*num2\n",
        "print(pro)\n",
        "\n",
        "#Quotient\n",
        "quo=num1/num2\n",
        "print(quo)\n",
        "\n",
        "#Expotent\n",
        "exp= num1 ** num2\n",
        "print(exp)\n",
        "\n",
        "#Modulus\n",
        "mod= num1 % num2\n",
        "print(mod)"
      ]
    },
    {
      "cell_type": "markdown",
      "source": [
        "#Assignment"
      ],
      "metadata": {
        "id": "yAsp5vI6MHTE"
      }
    },
    {
      "cell_type": "markdown",
      "source": [
        "+=\n",
        "\n",
        "-=\n",
        "\n",
        "*=\n",
        "\n",
        "**=\n",
        "\n",
        "/=\n",
        "\n",
        "%="
      ],
      "metadata": {
        "id": "f64NXtFWMY2q"
      }
    },
    {
      "cell_type": "code",
      "source": [
        "a = 5\n",
        "print(a)"
      ],
      "metadata": {
        "colab": {
          "base_uri": "https://localhost:8080/"
        },
        "id": "_08joednY1rb",
        "outputId": "fa19760a-c3fb-450a-ce3b-b554bb731266"
      },
      "execution_count": 3,
      "outputs": [
        {
          "output_type": "stream",
          "name": "stdout",
          "text": [
            "5\n"
          ]
        }
      ]
    },
    {
      "cell_type": "code",
      "source": [
        "a = 5\n",
        "a+=5\n",
        "print(a)"
      ],
      "metadata": {
        "colab": {
          "base_uri": "https://localhost:8080/"
        },
        "id": "4q0shuaZMMID",
        "outputId": "6171a238-97b7-44d4-ab03-61df972d00d0"
      },
      "execution_count": 4,
      "outputs": [
        {
          "output_type": "stream",
          "name": "stdout",
          "text": [
            "10\n"
          ]
        }
      ]
    },
    {
      "cell_type": "code",
      "source": [
        "b=6\n",
        "b-=2\n",
        "print(b)"
      ],
      "metadata": {
        "colab": {
          "base_uri": "https://localhost:8080/"
        },
        "id": "Z1j72okyMQ8X",
        "outputId": "853d2588-4fc4-4e4e-b3f1-fc4fc9aa535c"
      },
      "execution_count": 5,
      "outputs": [
        {
          "output_type": "stream",
          "name": "stdout",
          "text": [
            "4\n"
          ]
        }
      ]
    },
    {
      "cell_type": "markdown",
      "source": [
        "#Comparision"
      ],
      "metadata": {
        "id": "dVo6NBJPMhCX"
      }
    },
    {
      "cell_type": "code",
      "source": [
        "a = 5\n",
        "b = 10\n",
        "print(a==b) #equal"
      ],
      "metadata": {
        "colab": {
          "base_uri": "https://localhost:8080/"
        },
        "id": "PC7UvfLgMWXm",
        "outputId": "8f689d88-b006-4b99-8b09-0f7035348e75"
      },
      "execution_count": 6,
      "outputs": [
        {
          "output_type": "stream",
          "name": "stdout",
          "text": [
            "False\n"
          ]
        }
      ]
    },
    {
      "cell_type": "code",
      "source": [
        "a = 5\n",
        "b = 10\n",
        "print(a!=b) #not equal"
      ],
      "metadata": {
        "colab": {
          "base_uri": "https://localhost:8080/"
        },
        "id": "qIF1S2G1Mqql",
        "outputId": "801871a2-208e-497c-d0dd-63b1de9147ad"
      },
      "execution_count": 7,
      "outputs": [
        {
          "output_type": "stream",
          "name": "stdout",
          "text": [
            "True\n"
          ]
        }
      ]
    },
    {
      "cell_type": "code",
      "source": [
        "a = 5\n",
        "b = 10\n",
        "print(a>b) #greater\n",
        "print(a>=b) #greater than or equal to\n",
        "print(a<=b) #lesser than or equal to\n",
        "print(a<b) #lesser"
      ],
      "metadata": {
        "colab": {
          "base_uri": "https://localhost:8080/"
        },
        "id": "flujzNMMMxQ9",
        "outputId": "0a01b759-1338-4851-a2c6-6f9703ff25b2"
      },
      "execution_count": 9,
      "outputs": [
        {
          "output_type": "stream",
          "name": "stdout",
          "text": [
            "False\n",
            "False\n",
            "True\n",
            "True\n"
          ]
        }
      ]
    },
    {
      "cell_type": "markdown",
      "source": [
        "#Logical"
      ],
      "metadata": {
        "id": "1F6JFL6_NK5s"
      }
    },
    {
      "cell_type": "code",
      "source": [
        "a=10\n",
        "\n",
        "print(a>=5 and a<30)\n",
        "print(a<=5 or a>3)"
      ],
      "metadata": {
        "colab": {
          "base_uri": "https://localhost:8080/"
        },
        "id": "xjzWS_bJM3uO",
        "outputId": "0a4a7739-2bcc-42bf-d34d-8e53013f9a1c"
      },
      "execution_count": 1,
      "outputs": [
        {
          "output_type": "stream",
          "name": "stdout",
          "text": [
            "True\n",
            "True\n"
          ]
        }
      ]
    },
    {
      "cell_type": "markdown",
      "source": [
        "#Identity"
      ],
      "metadata": {
        "id": "aYCXSmkRR-e3"
      }
    },
    {
      "cell_type": "code",
      "source": [
        "x=5\n",
        "y=10\n",
        "\n",
        "print(x is y)"
      ],
      "metadata": {
        "colab": {
          "base_uri": "https://localhost:8080/"
        },
        "id": "a2d9WPJER5d5",
        "outputId": "81a155f0-2b18-405d-d2cf-66d2bae7c4da"
      },
      "execution_count": 2,
      "outputs": [
        {
          "output_type": "stream",
          "name": "stdout",
          "text": [
            "False\n"
          ]
        }
      ]
    },
    {
      "cell_type": "code",
      "source": [
        "x=5\n",
        "y=10\n",
        "\n",
        "print(x is not y)"
      ],
      "metadata": {
        "colab": {
          "base_uri": "https://localhost:8080/"
        },
        "id": "MUp_Dik7STp_",
        "outputId": "fe4a664c-b8ec-44d7-e7e0-752168d53e39"
      },
      "execution_count": 3,
      "outputs": [
        {
          "output_type": "stream",
          "name": "stdout",
          "text": [
            "True\n"
          ]
        }
      ]
    },
    {
      "cell_type": "markdown",
      "source": [
        "#Membership"
      ],
      "metadata": {
        "id": "eq5Z_rE0SZNo"
      }
    },
    {
      "cell_type": "markdown",
      "source": [
        "in\n",
        "\n",
        "not in"
      ],
      "metadata": {
        "id": "MEK_lV_vVQSk"
      }
    },
    {
      "cell_type": "code",
      "source": [
        "a=5\n",
        "b=10\n",
        "\n",
        "c=[1,2,3,4,5]\n",
        "print(a in c)\n",
        "print(b in c)"
      ],
      "metadata": {
        "colab": {
          "base_uri": "https://localhost:8080/"
        },
        "id": "SKdYsxJ4SW6z",
        "outputId": "c1daece8-12ab-497a-a621-8d643e6b0e40"
      },
      "execution_count": 4,
      "outputs": [
        {
          "output_type": "stream",
          "name": "stdout",
          "text": [
            "True\n",
            "False\n"
          ]
        }
      ]
    },
    {
      "cell_type": "code",
      "source": [
        "a=5\n",
        "b=10\n",
        "\n",
        "c=[1,2,3,4,5]\n",
        "print(a not in c)\n",
        "print(b not in c)"
      ],
      "metadata": {
        "colab": {
          "base_uri": "https://localhost:8080/"
        },
        "id": "GayJOUCvVZnE",
        "outputId": "494649c8-9c92-4aee-d6a9-e8681819d7aa"
      },
      "execution_count": 5,
      "outputs": [
        {
          "output_type": "stream",
          "name": "stdout",
          "text": [
            "False\n",
            "True\n"
          ]
        }
      ]
    },
    {
      "cell_type": "code",
      "source": [],
      "metadata": {
        "id": "7lAZdr8RVfjj"
      },
      "execution_count": null,
      "outputs": []
    }
  ]
}